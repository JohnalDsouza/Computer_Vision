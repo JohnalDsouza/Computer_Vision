{
 "cells": [
  {
   "cell_type": "code",
   "execution_count": 4,
   "id": "3ff6cf8f-27cd-4721-854a-a78c4c441d5c",
   "metadata": {
    "tags": []
   },
   "outputs": [],
   "source": [
    "import cv2\n",
    "cap = cv2.VideoCapture(0) # For accessing the webcam 0"
   ]
  },
  {
   "cell_type": "code",
   "execution_count": 5,
   "id": "56c12647-ff6f-4be4-98d0-8349c842af4a",
   "metadata": {
    "tags": []
   },
   "outputs": [],
   "source": [
    "width = int(cap.get(cv2.CAP_PROP_FRAME_HEIGHT))\n",
    "height = int(cap.get(cv2.CAP_PROP_FRAME_HEIGHT))"
   ]
  },
  {
   "cell_type": "code",
   "execution_count": null,
   "id": "37ff36f6-cb14-4aee-a731-8c39966266b3",
   "metadata": {},
   "outputs": [],
   "source": [
    "while True:\n",
    "    ret,frame = cap.read() # Returns a series of images\n",
    "    gray = cv2.cvtColor(frame,cv2.COLOR_)"
   ]
  }
 ],
 "metadata": {
  "kernelspec": {
   "display_name": "Python 3 (ipykernel)",
   "language": "python",
   "name": "python3"
  },
  "language_info": {
   "codemirror_mode": {
    "name": "ipython",
    "version": 3
   },
   "file_extension": ".py",
   "mimetype": "text/x-python",
   "name": "python",
   "nbconvert_exporter": "python",
   "pygments_lexer": "ipython3",
   "version": "3.9.16"
  }
 },
 "nbformat": 4,
 "nbformat_minor": 5
}
