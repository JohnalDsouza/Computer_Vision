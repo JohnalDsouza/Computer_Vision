{
 "cells": [
  {
   "cell_type": "code",
   "execution_count": 10,
   "id": "bb2b7fe9-67dd-4469-af87-5289c0f59f97",
   "metadata": {
    "tags": []
   },
   "outputs": [],
   "source": [
    "import cv2\n",
    "import time\n",
    "\n",
    "cap = cv2.VideoCapture('hand_move.mp4')\n",
    "fps = cap. get(cv2. CAP_PROP_FPS)\n",
    "# if not able to open the file\n",
    "if cap.isOpened()==False:\n",
    "    print('Error file not found')"
   ]
  },
  {
   "cell_type": "code",
   "execution_count": 11,
   "id": "35df0631-79e5-4a96-be33-d26ad233203a",
   "metadata": {
    "tags": []
   },
   "outputs": [],
   "source": [
    "while cap.isOpened():\n",
    "    ret,frame = cap.read()\n",
    "    # if there is something to show\n",
    "    if ret == True:\n",
    "        \n",
    "        time.sleep(1/fps)\n",
    "        cv2.imshow('frame',frame)\n",
    "        if cv2.waitKey(10) & 0xFF == ord('q'):\n",
    "            break\n",
    "    # if there is nothing to show\n",
    "    else:\n",
    "        break\n",
    "cap.release()\n",
    "cv2.destroyAllWindows()"
   ]
  },
  {
   "cell_type": "code",
   "execution_count": null,
   "id": "4cce9d03-6d1d-4fdf-8f2d-3015a958834e",
   "metadata": {},
   "outputs": [],
   "source": []
  }
 ],
 "metadata": {
  "kernelspec": {
   "display_name": "Python 3 (ipykernel)",
   "language": "python",
   "name": "python3"
  },
  "language_info": {
   "codemirror_mode": {
    "name": "ipython",
    "version": 3
   },
   "file_extension": ".py",
   "mimetype": "text/x-python",
   "name": "python",
   "nbconvert_exporter": "python",
   "pygments_lexer": "ipython3",
   "version": "3.9.16"
  }
 },
 "nbformat": 4,
 "nbformat_minor": 5
}
